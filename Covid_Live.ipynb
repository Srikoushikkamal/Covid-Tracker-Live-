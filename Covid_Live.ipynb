{
 "cells": [
  {
   "cell_type": "code",
   "execution_count": 6,
   "metadata": {},
   "outputs": [],
   "source": [
    "import requests\n",
    "from bs4 import BeautifulSoup as bs\n",
    "import json"
   ]
  },
  {
   "cell_type": "code",
   "execution_count": 2,
   "metadata": {},
   "outputs": [],
   "source": [
    "url='https://en.wikipedia.org/wiki/COVID-19_pandemic_in_India'"
   ]
  },
  {
   "cell_type": "code",
   "execution_count": 3,
   "metadata": {},
   "outputs": [],
   "source": [
    "headers={\n",
    "    'User-Agent': 'Mozilla/5.0 (X11; Linux x86_64) AppleWebKit/537.36 (KHTML, like Gecko) Chrome/89.0.4389.114 Safari/537.36'\n",
    "}"
   ]
  },
  {
   "cell_type": "markdown",
   "metadata": {},
   "source": [
    "# Country Count"
   ]
  },
  {
   "cell_type": "code",
   "execution_count": 4,
   "metadata": {},
   "outputs": [],
   "source": [
    "req=requests.get(url,headers=headers)"
   ]
  },
  {
   "cell_type": "code",
   "execution_count": 5,
   "metadata": {},
   "outputs": [],
   "source": [
    "soup=bs(req.content,'html.parser')"
   ]
  },
  {
   "cell_type": "code",
   "execution_count": 6,
   "metadata": {},
   "outputs": [],
   "source": [
    "total_cases=soup.find_all('table',class_=\"wikitable plainrowheaders\") #wikipedia Table"
   ]
  },
  {
   "cell_type": "code",
   "execution_count": 7,
   "metadata": {
    "scrolled": true
   },
   "outputs": [
    {
     "name": "stdout",
     "output_type": "stream",
     "text": [
      "\n",
      "\n",
      "COVID-19 Dashboard\n",
      "\n",
      "\n",
      "Total samples tested[99]\n",
      "\n",
      "309,448,585\n",
      "\n",
      "\n",
      "Total positive cases\n",
      "\n",
      "23,703,665\n",
      "\n",
      "\n",
      "New samples tested\n",
      "\n",
      "18,64,594\n",
      "\n",
      "\n",
      "New Positive cases\n",
      "\n",
      "362,727\n",
      "\n",
      "\n",
      "New Positivity Rate\n",
      "\n",
      "21%\n",
      "\n",
      "\n",
      "Total active cases\n",
      "\n",
      "3,710,525\n",
      "\n",
      "\n",
      "Total deaths\n",
      "\n",
      "258,317\n",
      "\n",
      "\n",
      "Total recovered cases\n",
      "\n",
      "19,021,207\n",
      "\n",
      "\n",
      "Total Doses administered [21]\n",
      "\n",
      "178,296,882\n",
      "\n",
      "\n",
      "People vaccinated 1st dose[100]\n",
      "\n",
      "139,052,400\n",
      "\n",
      "\n",
      "People vaccinated 2nd dose\n",
      "\n",
      "39,244,482\n",
      "\n",
      "\n",
      "As of May 13, 2021[19]\n",
      "\n"
     ]
    }
   ],
   "source": [
    "for i in total_cases:\n",
    "    print(i.get_text())\n",
    "    pass"
   ]
  },
  {
   "cell_type": "markdown",
   "metadata": {},
   "source": [
    "# State Wise Active Cases"
   ]
  },
  {
   "cell_type": "code",
   "execution_count": 306,
   "metadata": {},
   "outputs": [],
   "source": [
    "tn='http://bioinfo.usu.edu/covidTracker/india.php'\n",
    "tn_req=reuests.get(tn,headers=headers)"
   ]
  },
  {
   "cell_type": "code",
   "execution_count": 307,
   "metadata": {},
   "outputs": [],
   "source": [
    "tn_soup=bs(tn_req.content,'html.parser')"
   ]
  },
  {
   "cell_type": "code",
   "execution_count": 308,
   "metadata": {},
   "outputs": [],
   "source": [
    "city=tn_soup.find_all('td')"
   ]
  },
  {
   "cell_type": "code",
   "execution_count": 309,
   "metadata": {},
   "outputs": [],
   "source": [
    "city1=0 #City\n",
    "case=4 #Active Cases\n",
    "state={}\n",
    "for i in range(len(city)):\n",
    "    if(i==city1):x=city[i].get_text();city1+=5\n",
    "    elif(i==case):y=city[i].get_text();case+=5;state[x]=y\n",
    "#print(state)"
   ]
  },
  {
   "cell_type": "markdown",
   "metadata": {},
   "source": [
    "# Google Api for Latest Covid News"
   ]
  },
  {
   "cell_type": "code",
   "execution_count": 13,
   "metadata": {},
   "outputs": [],
   "source": [
    "url = \"https://www.google.com/search?q=coronavirus+news&biw=1294&bih=637&tbm=nws&sxsrf=ALeKk01FM1nl9o2OpJL9SiYXY5cPfVUkOQ%3A1620948652296&ei=rLadYKfYEcKH8QPU9afgBA&oq=coronavirus+news&gs_l=psy-ab.3..0l10.9555.17479.0.17874.21.14.2.3.4.0.229.1366.0j10j1.11.0....0...1c.1.64.psy-ab..7.13.1150...0i10k1.0.4lVZQopzHFM\"\n",
    "\n",
    "headers = {\n",
    "    'x-rapidapi-key': \"62efb74c93mshfb9b26dcd186ebfp11de76jsne54cd5af029a\",\n",
    "    'x-rapidapi-host': \"google-search3.p.rapidapi.com\"\n",
    "    }\n",
    "\n",
    "response = requests.request(\"GET\", url, headers=headers)\n",
    "\n"
   ]
  },
  {
   "cell_type": "code",
   "execution_count": 14,
   "metadata": {},
   "outputs": [
    {
     "data": {
      "text/plain": [
       "<!DOCTYPE html>\n",
       "<html lang=\"en-IN\"><head><meta charset=\"utf-8\"/><meta content=\"/images/branding/googleg/1x/googleg_standard_color_128dp.png\" itemprop=\"image\"/><title>coronavirus news - Google Search</title><script nonce=\"SmXKL7Ut9Y/pUCmzFvgKcg==\">(function(){\n",
       "document.documentElement.addEventListener(\"submit\",function(b){var a;if(a=b.target){var c=a.getAttribute(\"data-submitfalse\");a=\"1\"==c||\"q\"==c&&!a.elements.q.value?!0:!1}else a=!1;a&&(b.preventDefault(),b.stopPropagation())},!0);document.documentElement.addEventListener(\"click\",function(b){var a;a:{for(a=b.target;a&&a!=document.documentElement;a=a.parentElement)if(\"A\"==a.tagName){a=\"1\"==a.getAttribute(\"data-nohref\");break a}a=!1}a&&b.preventDefault()},!0);}).call(this);(function(){\n",
       "var a=window.performance;window.start=Date.now();a:{var b=window;if(a){var c=a.timing;if(c){var d=c.navigationStart,f=c.responseStart;if(f>d&&f<=window.start){window.start=f;b.wsrt=f-d;break a}}a.now&&(b.wsrt=Math.floor(a.now()))}}window.google=window.google||{};var h=function(g){g&&g.target.setAttribute(\"data-iml\",Date.now())};document.documentElement.addEventListener(\"load\",h,!0);google.rglh=function(){document.documentElement.removeEventListener(\"load\",h,!0)};}).call(this);(function(){\n",
       "var c=[],e=0;window.ping=function(b){-1==b.indexOf(\"&zx\")&&(b+=\"&zx=\"+Date.now());var a=new Image,d=e++;c[d]=a;a.onerror=a.onload=a.onabort=function(){delete c[d]};a.src=b};}).call(this);</script><style>body{margin:0 auto;max-width:736px;padding:0 8px;}a{color:#1967D2;text-decoration:none;tap-highlight-color:rgba(0,0,0,.10)}a:visited{color:#4B11A8}a:hover{text-decoration:underline}img{border:0}html{font-family:Roboto,Helvetica Neue,Arial,sans-serif;font-size:14px;line-height:20px;text-size-adjust:100%;color:#3c4043;word-wrap:break-word;background-color:#fff}.bRsWnc{background-color:#fff;border-top:1px solid #dadce0;height:39px;overflow:hidden}.N6RWV{height:51px;overflow-scrolling:touch;overflow-x:auto;overflow-y:hidden}.Uv67qb{box-pack:justify;font-size:12px;line-height:37px;justify-content:space-between;justify-content:space-between}.Uv67qb a,.Uv67qb span{color:#70757a;display:block;flex:none;padding:0 16px;text-align:center;text-transform:uppercase;}span.OXXup{border-bottom:2px solid #4285f4;color:#4285f4;font-weight:bold}a.eZt8xd:visited{color:#70757a}.FElbsf{border-left:1px solid rgba(0,0,0,.12)}header article{overflow:visible}.Pg70bf{height:39px;display:box;display:flex;display:flex;width:100%}.H0PQec{position:relative;flex:1}.sbc{display:flex;width:100%}.Pg70bf input{margin:2px 4px 2px 8px;}.x{width:26px;color:#70757a;font:27px/38px arial, sans-serif;line-height:40px;}#qdClwb{flex:0 0 auto;width:39px;height:39px;border-bottom:0;padding:0;border-top-right-radius:8px;background-color:#1a73e8;border:1px solid #1558d6;background-image:url(data:image/gif;base64,R0lGODdhJAAjAPIHAODr/nCk+MPZ/FmV96zK+/7+/5K5+kqL9iwAAAAAJAAjAEADani63P4wykmbKcQRXDscQAEMXmmeaLQVLCukzyC09AjfeK7v/MAajACLhPMVAgwjsUcEiZa8xgAYrVqv2Kx2iwsIAAABknfBBAKrTE4IcMyot8ur8datqIbQfJdnAfo2WE6BV05wXIiJigkAOw==);}.sc{font-size:;position:absolute;top:39px;left:0;right:0;box-shadow:0px 2px 5px rgba(0,0,0,.2);z-index:2;background-color:#fff}.sc>div{padding:10px 10px;padding-left:16px;padding-left:14px;border-top:1px solid #dfe1e5}.scs{background-color:#f8f9fa;}.noHIxc{display:block;font-size:16px;padding:0 0 0 8px;flex:1;height:35px;outline:none;border:none;width:100%;-webkit-tap-highlight-color:rgba(0,0,0,.00);overflow:hidden;}.sbc input[type=text]{background:none}.bz1lBb{background:#fff;border-radius:8px 8px 0 0;box-shadow:0 1px 6px rgba(32, 33, 36, 0.18);margin-top:10px}.KP7LCb{border-radius:0 0 8px 8px;box-shadow:0 2px 3px rgba(32, 33, 36, 0.18);margin-bottom:10px;overflow:hidden}.cOl4Id{letter-spacing:-1px;text-align:center;font:22pt Futura, Arial, sans-serif;padding:10px 0 5px 0;height:37px;font-smoothing:antialiased}.cOl4Id span{display:inline-block}.S591j{height:100%}.V6gwVd{color:#4285f4}.iWkuvd{color:#ea4335}.cDrQ7{color:#fcc934}.ntlR9{color:#34a853}.tJ3Myc{-webkit-transform:rotate(-20deg);position:relative;left:-1px;display:inline-block}footer{text-align:center;margin-top:18px}footer a,footer a:visited,.smiUbb{color:#70757a}.xeDNfc{margin:0 13px}#EOlPnc{margin-top:36px}#EOlPnc>div{margin:20px}.Srfpq{color:#70757a}</style></head><body jsmodel=\"TvHxbe\"><header id=\"hdr\"><script nonce=\"SmXKL7Ut9Y/pUCmzFvgKcg==\">(function(){\n",
       "var k=this||self,l=function(){},m=function(a){var b=typeof a;return\"object\"==b&&null!=a||\"function\"==b},n=function(a,b){function c(){}c.prototype=b.prototype;a.l=b.prototype;a.prototype=new c;a.prototype.constructor=a;a.m=function(d,e,g){for(var f=Array(arguments.length-2),h=2;h<arguments.length;h++)f[h-2]=arguments[h];return b.prototype[e].apply(d,f)}};var p=Array.prototype.indexOf?function(a,b){return Array.prototype.indexOf.call(a,b,void 0)}:function(a,b){if(\"string\"===typeof a)return\"string\"!==typeof b||1!=b.length?-1:a.indexOf(b,0);for(var c=0;c<a.length;c++)if(c in a&&a[c]===b)return c;return-1},q=Array.prototype.filter?function(a,b){return Array.prototype.filter.call(a,b,void 0)}:function(a,b){for(var c=a.length,d=[],e=0,g=\"string\"===typeof a?a.split(\"\"):a,f=0;f<c;f++)if(f in g){var h=g[f];b.call(void 0,h,f,a)&&(d[e++]=h)}return d};var r=function(a){return\"string\"==typeof a.className?a.className:a.getAttribute&&a.getAttribute(\"class\")||\"\"},t=function(a,b){\"string\"==typeof a.className?a.className=b:a.setAttribute&&a.setAttribute(\"class\",b)},u=function(a,b){a.classList?b=a.classList.contains(b):(a=a.classList?a.classList:r(a).match(/\\S+/g)||[],b=0<=p(a,b));return b},x=function(){var a=v,b=w;a.classList?a.classList.remove(b):u(a,b)&&t(a,q(a.classList?a.classList:r(a).match(/\\S+/g)||[],function(c){return c!=b}).join(\" \"))};var y;a:{var z=k.navigator;if(z){var A=z.userAgent;if(A){y=A;break a}}y=\"\"};var B=function(a){B[\" \"](a);return a};B[\" \"]=l;var C=-1!=y.indexOf(\"Gecko\")&&!(-1!=y.toLowerCase().indexOf(\"webkit\")&&-1==y.indexOf(\"Edge\"))&&!(-1!=y.indexOf(\"Trident\")||-1!=y.indexOf(\"MSIE\"))&&-1==y.indexOf(\"Edge\");var D=function(){if(!k.addEventListener||!Object.defineProperty)return!1;var a=!1,b=Object.defineProperty({},\"passive\",{get:function(){a=!0}});try{k.addEventListener(\"test\",l,b),k.removeEventListener(\"test\",l,b)}catch(c){}return a}();var E=function(a,b){this.type=a;this.target=b};E.prototype.g=function(){};var G=function(a){E.call(this,a?a.type:\"\");this.relatedTarget=this.target=null;this.button=this.screenY=this.screenX=this.clientY=this.clientX=0;this.key=\"\";this.keyCode=0;this.metaKey=this.shiftKey=this.altKey=this.ctrlKey=!1;this.state=null;this.pointerId=0;this.pointerType=\"\";this.h=null;if(a){var b=this.type=a.type,c=a.changedTouches&&a.changedTouches.length?a.changedTouches[0]:null;this.target=a.target||a.srcElement;var d=a.relatedTarget;if(d){if(C){a:{try{B(d.nodeName);var e=!0;break a}catch(g){}e=\n",
       "!1}e||(d=null)}}else\"mouseover\"==b?d=a.fromElement:\"mouseout\"==b&&(d=a.toElement);this.relatedTarget=d;c?(this.clientX=void 0!==c.clientX?c.clientX:c.pageX,this.clientY=void 0!==c.clientY?c.clientY:c.pageY,this.screenX=c.screenX||0,this.screenY=c.screenY||0):(this.clientX=void 0!==a.clientX?a.clientX:a.pageX,this.clientY=void 0!==a.clientY?a.clientY:a.pageY,this.screenX=a.screenX||0,this.screenY=a.screenY||0);this.button=a.button;this.keyCode=a.keyCode||0;this.key=a.key||\"\";this.ctrlKey=a.ctrlKey;this.altKey=a.altKey;this.shiftKey=a.shiftKey;this.metaKey=a.metaKey;this.pointerId=a.pointerId||0;this.pointerType=\"string\"===typeof a.pointerType?a.pointerType:F[a.pointerType]||\"\";this.state=a.state;this.h=a;a.defaultPrevented&&G.l.g.call(this)}};n(G,E);var F={2:\"touch\",3:\"pen\",4:\"mouse\"};G.prototype.g=function(){G.l.g.call(this);var a=this.h;a.preventDefault?a.preventDefault():a.returnValue=!1};var H=\"closure_listenable_\"+(1E6*Math.random()|0);var I=0;var J=function(a,b,c,d,e){this.listener=a;this.g=null;this.src=b;this.type=c;this.capture=!!d;this.i=e;this.key=++I;this.h=this.j=!1},K=function(a){a.h=!0;a.listener=null;a.g=null;a.src=null;a.i=null};var L=function(a){this.src=a;this.g={};this.h=0};L.prototype.add=function(a,b,c,d,e){var g=a.toString();a=this.g[g];a||(a=this.g[g]=[],this.h++);var f;a:{for(f=0;f<a.length;++f){var h=a[f];if(!h.h&&h.listener==b&&h.capture==!!d&&h.i==e)break a}f=-1}-1<f?(b=a[f],c||(b.j=!1)):(b=new J(b,this.src,g,!!d,e),b.j=c,a.push(b));return b};var M=\"closure_lm_\"+(1E6*Math.random()|0),N={},O=0,Q=function(a,b,c,d,e){if(d&&d.once)return P(a,b,c,d,e);if(Array.isArray(b)){for(var g=0;g<b.length;g++)Q(a,b[g],c,d,e);return null}c=R(c);return a&&a[H]?a.g(b,c,m(d)?!!d.capture:!!d,e):S(a,b,c,!1,d,e)},S=function(a,b,c,d,e,g){if(!b)throw Error(\"a\");var f=m(e)?!!e.capture:!!e,h=T(a);h||(a[M]=h=new L(a));c=h.add(b,c,d,f,g);if(c.g)return c;d=U();c.g=d;d.src=a;d.listener=c;if(a.addEventListener)D||(e=f),void 0===e&&(e=!1),a.addEventListener(b.toString(),d,e);else if(a.attachEvent)a.attachEvent(V(b.toString()),d);else if(a.addListener&&a.removeListener)a.addListener(d);else throw Error(\"b\");O++;return c},U=function(){var a=aa,b=function(c){return a.call(b.src,b.listener,c)};return b},P=function(a,b,c,d,e){if(Array.isArray(b)){for(var g=0;g<b.length;g++)P(a,b[g],c,d,e);return null}c=R(c);return a&&a[H]?a.h(b,c,m(d)?!!d.capture:!!d,e):S(a,b,c,!0,d,e)},W=function(a){if(\"number\"!==typeof a&&a&&!a.h){var b=a.src;if(b&&b[H])b.i(a);else{var c=a.type,d=a.g;b.removeEventListener?b.removeEventListener(c,d,a.capture):b.detachEvent?b.detachEvent(V(c),d):b.addListener&&b.removeListener&&b.removeListener(d);O--;if(c=T(b)){d=a.type;if(d in c.g){var e=c.g[d],g=p(e,a),f;(f=0<=g)&&Array.prototype.splice.call(e,g,1);f&&(K(a),0==c.g[d].length&&(delete c.g[d],c.h--))}0==c.h&&(c.src=null,b[M]=null)}else K(a)}}},V=function(a){return a in N?N[a]:N[a]=\"on\"+a},aa=function(a,b){if(a.h)a=!0;else{b=new G(b,this);var c=a.listener,d=a.i||a.src;a.j&&W(a);a=c.call(d,b)}return a},T=function(a){a=a[M];return a instanceof L?a:null},X=\"__closure_events_fn_\"+(1E9*Math.random()>>>0),R=function(a){if(\"function\"===typeof a)return a;a[X]||(a[X]=function(b){return a.handleEvent(b)});return a[X]};var w,v=document.documentElement,Y;function ba(){W(Y);Y=P(v,\"mousedown\",function(){x();Z()},{capture:!0})}function Z(){W(Y);Y=Q(v,\"keydown\",function(a){if(9==a.keyCode){a=v;var b=w;if(a.classList)a.classList.add(b);else if(!u(a,b)){var c=r(a);t(a,c+(0<c.length?\" \"+b:b))}ba()}})};w=\"zAoYTe\";Z();}).call(this);</script><div class=\"cOl4Id\"><a href=\"/?sa=X&amp;ved=0ahUKEwjjwMGtrs_wAhUrwjgGHUiRByMQOwgC\"><span class=\"V6gwVd\">G</span><span class=\"iWkuvd\">o</span><span class=\"cDrQ7\">o</span><span class=\"V6gwVd\">g</span><span class=\"ntlR9\">l</span><span class=\"iWkuvd tJ3Myc\">e</span></a></div><div class=\"bz1lBb\"><form class=\"Pg70bf\" id=\"sf\"><input name=\"biw\" type=\"hidden\" value=\"1294\"/><input name=\"bih\" type=\"hidden\" value=\"637\"/><input name=\"ie\" type=\"hidden\" value=\"ISO-8859-1\"/><input name=\"tbm\" type=\"hidden\" value=\"nws\"/><div class=\"H0PQec\"><div class=\"sbc esbc\"><input autocapitalize=\"none\" autocomplete=\"off\" class=\"noHIxc\" name=\"q\" spellcheck=\"false\" type=\"text\" value=\"coronavirus news\"/><input name=\"oq\" type=\"hidden\"/><input name=\"aqs\" type=\"hidden\"/><div class=\"x\">×</div><div class=\"sc\"></div></div></div><button id=\"qdClwb\" type=\"submit\"></button></form></div><noscript><meta content=\"0;url=/search?q=coronavirus+news&amp;tbm=nws&amp;biw=1294&amp;bih=637&amp;ie=UTF-8&amp;gbv=1&amp;sei=qquhYOPDNquE4-EPyKKemAI\" http-equiv=\"refresh\"/><style>table,div,span,p{display:none}</style><div style=\"display:block\">Please click <a href=\"/search?q=coronavirus+news&amp;tbm=nws&amp;biw=1294&amp;bih=637&amp;ie=UTF-8&amp;gbv=1&amp;sei=qquhYOPDNquE4-EPyKKemAI\">here</a> if you are not redirected within a few seconds.</div></noscript></header><div id=\"main\"><div><div class=\"KP7LCb\"> <div class=\"bRsWnc\"> <div class=\"N6RWV\"> <div class=\"Pg70bf Uv67qb\"> <a class=\"eZt8xd\" href=\"/search?q=coronavirus+news&amp;biw=1294&amp;bih=637&amp;ie=UTF-8&amp;source=lnms&amp;sa=X&amp;ved=0ahUKEwjjwMGtrs_wAhUrwjgGHUiRByMQ_AUIBSgA\">All</a><span class=\"OXXup\">News</span><a class=\"eZt8xd\" href=\"/search?q=coronavirus+news&amp;biw=1294&amp;bih=637&amp;ie=UTF-8&amp;tbm=bks&amp;source=lnms&amp;sa=X&amp;ved=0ahUKEwjjwMGtrs_wAhUrwjgGHUiRByMQ_AUIBygC\">Books</a><a class=\"eZt8xd\" href=\"/search?q=coronavirus+news&amp;biw=1294&amp;bih=637&amp;ie=UTF-8&amp;tbm=vid&amp;source=lnms&amp;sa=X&amp;ved=0ahUKEwjjwMGtrs_wAhUrwjgGHUiRByMQ_AUICCgD\">Videos</a> <a href=\"/search?q=coronavirus+news&amp;biw=1294&amp;bih=637&amp;ie=UTF-8&amp;tbm=isch&amp;source=lnms&amp;sa=X&amp;ved=0ahUKEwjjwMGtrs_wAhUrwjgGHUiRByMQ_AUICSgE\">Images</a> <a href=\"https://maps.google.com/maps?q=coronavirus+news&amp;biw=1294&amp;bih=637&amp;sxsrf=ALeKk01FM1nl9o2OpJL9SiYXY5cPfVUkOQ:1620948652296&amp;um=1&amp;ie=UTF-8&amp;sa=X&amp;ved=0ahUKEwjjwMGtrs_wAhUrwjgGHUiRByMQ_AUICigF\">Maps</a> <a href=\"/search?q=coronavirus+news&amp;biw=1294&amp;bih=637&amp;ie=UTF-8&amp;tbm=shop&amp;source=lnms&amp;sa=X&amp;ved=0ahUKEwjjwMGtrs_wAhUrwjgGHUiRByMQ_AUICygG\">Shopping</a> <div class=\"FElbsf\"><a href=\"/advanced_search\" id=\"st-toggle\" role=\"button\" style=\"white-space:nowrap\">Search tools</a></div> </div> </div> </div> </div><div class=\"Pg70bf wEsjbd ZINbbc xpd O9g5cc uUPGi\" id=\"st-card\" style=\"display:none\"><style>.wEsjbd{background-color:#fff;height:44px;white-space:nowrap}.coPU8c{height:60px;overflow-scrolling:touch;overflow-x:auto;overflow-y:hidden}.Xj2aue{height:44px;overflow:hidden}.RnNGze{margin:11px 16px}.wEsjbd div,.wEsjbd a,.wEsjbd li{outline-width:0;outline:none}</style><div class=\"Xj2aue\"><div class=\"coPU8c\"><div class=\"RnNGze\"><style>.PA9J5{display:inline-block}.RXaOfd{display:inline-block;height:22px;position:relative;padding-top:0;padding-bottom:0;padding-right:16px;padding-left:0;line-height:22px;cursor:pointer;text-transform:uppercase;font-size:12px;color:#70757a}.sa1toc{display:none;position:absolute;background:#fff;border:1px solid #d6d6d6;box-shadow:0 2px 4px rgba(0,0,0,0.3);margin:0;white-space:nowrap;z-index:103;line-height:17px;padding-top:5px;padding-bottom:5px;padding-left:0}.PA9J5:hover .sa1toc{display:block}.mGSy8d a:active,.RXaOfd:active{color:#4285f4}</style><div class=\"PA9J5\"><div class=\"RXaOfd\" role=\"button\" tabindex=\"0\"><style>.TWMOUc{display:inline-block;padding-right:14px;white-space:nowrap}.vQYuGf{font-weight:bold}.OmTIzf{border-color:#909090 transparent;border-style:solid;border-width:4px 4px 0 4px;width:0;height:0;margin-left:-10px;top:50%;margin-top:-2px;position:absolute}.RXaOfd:active .OmTIzf{border-color:#4285f4 transparent}</style><div class=\"TWMOUc\">Recent</div><span class=\"OmTIzf\"></span></div><ul class=\"sa1toc ozatM\"><style>.ozatM{font-size:12px;text-transform:uppercase}.ozatM .yNFsl,.ozatM li{list-style-type:none;list-style-position:outside;list-style-image:none}.yNFsl.SkUj4c,.yNFsl a{color:rgba(0,0,0,0.54);text-decoration:none;padding:6px 44px 6px 14px;line-height:17px;display:block}.SkUj4c{background-image:url(//ssl.gstatic.com/ui/v1/menu/checkmark2.png);background-position:right center;background-repeat:no-repeat}.SkUj4c:active{background-color:#f8f9fa}</style><li class=\"yNFsl SkUj4c\">Recent</li><li class=\"yNFsl\"><a href=\"/search?q=coronavirus+news&amp;biw=1294&amp;bih=637&amp;ie=UTF-8&amp;tbm=nws&amp;source=lnt&amp;tbs=qdr:h&amp;sa=X&amp;ved=0ahUKEwjjwMGtrs_wAhUrwjgGHUiRByMQpwUIDQ\">Past hour</a></li><li class=\"yNFsl\"><a href=\"/search?q=coronavirus+news&amp;biw=1294&amp;bih=637&amp;ie=UTF-8&amp;tbm=nws&amp;source=lnt&amp;tbs=qdr:d&amp;sa=X&amp;ved=0ahUKEwjjwMGtrs_wAhUrwjgGHUiRByMQpwUIDg\">Past 24 hours</a></li><li class=\"yNFsl\"><a href=\"/search?q=coronavirus+news&amp;biw=1294&amp;bih=637&amp;ie=UTF-8&amp;tbm=nws&amp;source=lnt&amp;tbs=qdr:w&amp;sa=X&amp;ved=0ahUKEwjjwMGtrs_wAhUrwjgGHUiRByMQpwUIDw\">Past week</a></li><li class=\"yNFsl\"><a href=\"/search?q=coronavirus+news&amp;biw=1294&amp;bih=637&amp;ie=UTF-8&amp;tbm=nws&amp;source=lnt&amp;tbs=qdr:m&amp;sa=X&amp;ved=0ahUKEwjjwMGtrs_wAhUrwjgGHUiRByMQpwUIEA\">Past month</a></li><li class=\"yNFsl\"><a href=\"/search?q=coronavirus+news&amp;biw=1294&amp;bih=637&amp;ie=UTF-8&amp;tbm=nws&amp;source=lnt&amp;tbs=qdr:y&amp;sa=X&amp;ved=0ahUKEwjjwMGtrs_wAhUrwjgGHUiRByMQpwUIEQ\">Past year</a></li><li class=\"yNFsl\"><a href=\"/search?q=coronavirus+news&amp;biw=1294&amp;bih=637&amp;ie=UTF-8&amp;tbm=nws&amp;source=lnt&amp;tbs=ar:1&amp;sa=X&amp;ved=0ahUKEwjjwMGtrs_wAhUrwjgGHUiRByMQpwUIEg\">Archives</a></li></ul></div><div class=\"PA9J5\"><div class=\"RXaOfd\" role=\"button\" tabindex=\"0\"><div class=\"TWMOUc\">Sorted by relevance</div><span class=\"OmTIzf\"></span></div><ul class=\"sa1toc ozatM\"><li class=\"yNFsl SkUj4c\">Sorted by relevance</li><li class=\"yNFsl\"><a href=\"/search?q=coronavirus+news&amp;biw=1294&amp;bih=637&amp;ie=UTF-8&amp;tbm=nws&amp;source=lnt&amp;tbs=sbd:1&amp;sa=X&amp;ved=0ahUKEwjjwMGtrs_wAhUrwjgGHUiRByMQpwUIFA\">Sorted by date</a></li></ul></div></div></div></div><script nonce=\"SmXKL7Ut9Y/pUCmzFvgKcg==\">(function(){\n",
       "var a=document.getElementById(\"st-toggle\"),b=document.getElementById(\"st-card\");a&&b&&a.addEventListener(\"click\",function(c){b.style.display=b.style.display?\"\":\"none\";c.preventDefault()},!1);}).call(this);</script></div></div><style>.ZINbbc{background-color:#fff;margin-bottom:10px;box-shadow:0 1px 6px rgba(32, 33, 36, 0.28);border-radius:8px}.uUPGi{font-size:14px;line-height:20px;}.O9g5cc>*:first-child{border-top-left-radius:8px;border-top-right-radius:8px}.O9g5cc>*:last-child{border-bottom-left-radius:8px;border-bottom-right-radius:8px}.O9g5cc>.qxDOhb>*:first-child{border-top-left-radius:8px;border-top-right-radius:8px}.O9g5cc>.qxDOhb>*:last-child{border-bottom-left-radius:8px;border-bottom-right-radius:8px}.rl7ilb{display:block;clear:both}.kCrYT{padding:12px 16px 12px}a.fdYsqf{color:#4B11A8}.zBAuLc{font-weight:normal;line-height:normal;margin:0;padding:0}.BNeawe{white-space:pre-line;word-wrap:break-word}.vvjwJb{color:#1967D2;font-size:16px;line-height:20px}a:visited .vvjwJb,.vvjwJb a:visited{color:#4B11A8}.vvjwJb.HrGdeb{color:#fff}a:visited .vvjwJb.HrGdeb,.vvjwJb.HrGdeb a:visited{color:rgba(255,255,255,.70)}.UPmit{font-size:14px;line-height:20px}.UPmit.HrGdeb{color:rgba(255,255,255,.70)}.UPmit.AP7Wnd{color:#0d652d}.x54gtf{height:1px;background-color:#dfe1e5;margin:0 16px}.Q0HXG{height:1px;background-color:#dfe1e5}.lcJF1d{border-radius:8px;margin-left:16px;float:right;}.EYOsld{display:inline-block;position:relative}.SXn0g{overflow:hidden}.GXKcHe{display:inline-block}.p1CInd{position:relative}.Ap5OSd{padding-bottom:12px}.s3v9rd{font-size:14px;line-height:20px}.s3v9rd.HrGdeb{color:#fff}.s3v9rd.AP7Wnd{color:#202124}.r0bn4c.tr0dw{color:rgba(255,255,255,.70)}.r0bn4c.rQMQod{color:#70757a}.rLshyf,.BmP5tf{padding-top:12px;padding-bottom:12px}.YOx3Ab{padding-left:16px;}.w1C3Le,.BmP5tf,.G5NbBd,.CS4w5b{padding-left:16px;padding-right:16px;}.G5NbBd{padding-bottom:12px}.CS4w5b{padding-top:12px}.nMymef{display:flex}.G5eFlf{flex:1;display:block}.nMymef span{text-align:center}</style><div><!--SW_C_X--></div><div><div class=\"ZINbbc xpd O9g5cc uUPGi\"><div class=\"kCrYT\"><a href=\"/url?q=https://timesofindia.indiatimes.com/india/coronavirus-lockdown-in-india-covid-19-cases-black-fungus-news-live-updates-16-may-2021/liveblog/82673403.cms&amp;sa=U&amp;ved=2ahUKEwjjwMGtrs_wAhUrwjgGHUiRByMQxfQBMAB6BAgAEAE&amp;usg=AOvVaw3l4y7SnhZsYec33NZwYRIn\"><h3 class=\"zBAuLc\"><div class=\"BNeawe vvjwJb AP7Wnd\">Coronavirus live updates: Covaxin blunts all Covid strains, BB-ICMR study says</div></h3><div class=\"BNeawe UPmit AP7Wnd\">Times of India</div></a></div><div class=\"x54gtf\"></div><div class=\"kCrYT\"><a href=\"/url?q=https://timesofindia.indiatimes.com/india/coronavirus-lockdown-in-india-covid-19-cases-black-fungus-news-live-updates-16-may-2021/liveblog/82673403.cms&amp;sa=U&amp;ved=2ahUKEwjjwMGtrs_wAhUrwjgGHUiRByMQ0Y8FMAB6BAgAEAI&amp;usg=AOvVaw2MoT6mFLtWoo65DMAM4FNA\"><div class=\"lcJF1d SXn0g GXKcHe\"><div style=\"width:120px;height:89px;position:static\"><img alt=\"\" class=\"EYOsld\" data-deferred=\"1\" id=\"dimg_4\" src=\"data:image/gif;base64,R0lGODlhAQABAIAAAP///////yH5BAEKAAEALAAAAAABAAEAAAICTAEAOw==\" style=\"width:120px;height:89px\"/></div></div></a><div><div class=\"BNeawe s3v9rd AP7Wnd\"><div><div class=\"BNeawe s3v9rd AP7Wnd\"><span class=\"r0bn4c rQMQod\">16 mins ago</span><span class=\"r0bn4c rQMQod\"> · </span>The devastating second wave of Covid-19 appears to have turned a corner. The seven-day average of daily cases has fallen for seven days in...</div></div></div></div><div class=\"rl7ilb\"></div></div></div></div><div><div class=\"ZINbbc xpd O9g5cc uUPGi\"><div class=\"kCrYT\"><a href=\"/url?q=https://timesofindia.indiatimes.com/india/weekly-covid-cases-fall-for-first-time-in-2nd-wave/articleshow/82693116.cms&amp;sa=U&amp;ved=2ahUKEwjjwMGtrs_wAhUrwjgGHUiRByMQxfQBMAF6BAgIEAE&amp;usg=AOvVaw0jeOr_1f6fmP1odOjgpZAQ\"><h3 class=\"zBAuLc\"><div class=\"BNeawe vvjwJb AP7Wnd\">Weekly Covid cases fall for first time in 2nd wave</div></h3><div class=\"BNeawe UPmit AP7Wnd\">Times of India</div></a></div><div class=\"x54gtf\"></div><div class=\"kCrYT\"><a href=\"/url?q=https://timesofindia.indiatimes.com/india/weekly-covid-cases-fall-for-first-time-in-2nd-wave/articleshow/82693116.cms&amp;sa=U&amp;ved=2ahUKEwjjwMGtrs_wAhUrwjgGHUiRByMQ0Y8FMAF6BAgIEAI&amp;usg=AOvVaw06qzVGa4V_q1CTVY9cnUvV\"><div class=\"lcJF1d SXn0g GXKcHe\"><div style=\"width:120px;height:89px;position:static\"><img alt=\"\" class=\"EYOsld\" data-deferred=\"1\" id=\"dimg_17\" src=\"data:image/gif;base64,R0lGODlhAQABAIAAAP///////yH5BAEKAAEALAAAAAABAAEAAAICTAEAOw==\" style=\"width:120px;height:89px\"/></div></div></a><div><div class=\"BNeawe s3v9rd AP7Wnd\"><div><div class=\"BNeawe s3v9rd AP7Wnd\"><span class=\"r0bn4c rQMQod\">3 hours ago</span><span class=\"r0bn4c rQMQod\"> · </span>India News: For the first time during the course of the second Covid wave, India registered a fall in cases in the week ended Sunday as the...</div></div></div></div><div class=\"rl7ilb\"></div></div></div></div><div><div class=\"ZINbbc xpd O9g5cc uUPGi\"><div class=\"kCrYT\"><a href=\"/url?q=https://www.ndtv.com/india-news/shahid-jameel-quits-covid-panel-after-differences-with-government-2442981&amp;sa=U&amp;ved=2ahUKEwjjwMGtrs_wAhUrwjgGHUiRByMQxfQBMAJ6BAgJEAE&amp;usg=AOvVaw0Zul8FvRBzAnIdGOqf6bU0\"><h3 class=\"zBAuLc\"><div class=\"BNeawe vvjwJb AP7Wnd\">Top Virologist Shahid Jameel Quits Covid Panel After Criticising Government</div></h3><div class=\"BNeawe UPmit AP7Wnd\">NDTV.com</div></a></div><div class=\"x54gtf\"></div><div class=\"kCrYT\"><a href=\"/url?q=https://www.ndtv.com/india-news/shahid-jameel-quits-covid-panel-after-differences-with-government-2442981&amp;sa=U&amp;ved=2ahUKEwjjwMGtrs_wAhUrwjgGHUiRByMQ0Y8FMAJ6BAgJEAI&amp;usg=AOvVaw3quFYaRZd0t44eZREwqazA\"><div class=\"lcJF1d SXn0g GXKcHe\"><div style=\"width:120px;height:73px;position:static\"><img alt=\"\" class=\"EYOsld\" data-deferred=\"1\" id=\"dimg_19\" src=\"data:image/gif;base64,R0lGODlhAQABAIAAAP///////yH5BAEKAAEALAAAAAABAAEAAAICTAEAOw==\" style=\"width:120px;height:73px\"/></div></div></a><div><div class=\"BNeawe s3v9rd AP7Wnd\"><div><div class=\"BNeawe s3v9rd AP7Wnd\"><span class=\"r0bn4c rQMQod\">4 hours ago</span><span class=\"r0bn4c rQMQod\"> · </span>Senior virologist Shahid Jameel has resigned from a forum of scientific advisers set up by the government to detect variants of the coronavirus,...</div></div></div></div><div class=\"rl7ilb\"></div></div></div></div><div><div class=\"ZINbbc xpd O9g5cc uUPGi\"><div class=\"kCrYT\"><a href=\"/url?q=https://indianexpress.com/article/india/rajeev-satav-dead-covid-19-7317035/&amp;sa=U&amp;ved=2ahUKEwjjwMGtrs_wAhUrwjgGHUiRByMQxfQBMAN6BAgHEAE&amp;usg=AOvVaw12LGL67-KjxemkpoY6zJwk\"><h3 class=\"zBAuLc\"><div class=\"BNeawe vvjwJb AP7Wnd\">Congress MP Rajeev Satav dies after recovering from COVID-19</div></h3><div class=\"BNeawe UPmit AP7Wnd\">The Indian Express</div></a></div><div class=\"x54gtf\"></div><div class=\"kCrYT\"><a href=\"/url?q=https://indianexpress.com/article/india/rajeev-satav-dead-covid-19-7317035/&amp;sa=U&amp;ved=2ahUKEwjjwMGtrs_wAhUrwjgGHUiRByMQ0Y8FMAN6BAgHEAI&amp;usg=AOvVaw1pacufWnCBn9rpV_pvr3iJ\"><div class=\"lcJF1d SXn0g GXKcHe\"><div style=\"width:120px;height:66px;position:static\"><img alt=\"\" class=\"EYOsld\" data-deferred=\"1\" id=\"dimg_15\" src=\"data:image/gif;base64,R0lGODlhAQABAIAAAP///////yH5BAEKAAEALAAAAAABAAEAAAICTAEAOw==\" style=\"width:120px;height:66px\"/></div></div></a><div><div class=\"BNeawe s3v9rd AP7Wnd\"><div><div class=\"BNeawe s3v9rd AP7Wnd\"><span class=\"r0bn4c rQMQod\">11 hours ago</span><span class=\"r0bn4c rQMQod\"> · </span>Satav, considered close to Congress leader Rahul Gandhi, had tested positive for coronavirus infection on April 22. Satav was later diagnosed...</div></div></div></div><div class=\"rl7ilb\"></div></div></div></div><div><div class=\"ZINbbc xpd O9g5cc uUPGi\"><div class=\"kCrYT\"><a href=\"/url?q=https://www.hindustantimes.com/cities/delhi-news/delhi-covid-19-lockdown-extended-till-may-24-says-arvind-kejriwal-101621147111068.html&amp;sa=U&amp;ved=2ahUKEwjjwMGtrs_wAhUrwjgGHUiRByMQxfQBMAR6BAgDEAE&amp;usg=AOvVaw25y62tfagfeDQ8MnOkWHY6\"><h3 class=\"zBAuLc\"><div class=\"BNeawe vvjwJb AP7Wnd\">Delhi Covid-19 lockdown extended till May 24; metro services to remain shut</div></h3><div class=\"BNeawe UPmit AP7Wnd\">Hindustan Times</div></a></div><div class=\"x54gtf\"></div><div class=\"kCrYT\"><a href=\"/url?q=https://www.hindustantimes.com/cities/delhi-news/delhi-covid-19-lockdown-extended-till-may-24-says-arvind-kejriwal-101621147111068.html&amp;sa=U&amp;ved=2ahUKEwjjwMGtrs_wAhUrwjgGHUiRByMQ0Y8FMAR6BAgDEAI&amp;usg=AOvVaw1Nv8idH51ZpXKuRxuco-_W\"><div class=\"lcJF1d SXn0g GXKcHe\"><div style=\"width:120px;height:67px;position:static\"><img alt=\"\" class=\"EYOsld\" data-deferred=\"1\" id=\"dimg_1\" src=\"data:image/gif;base64,R0lGODlhAQABAIAAAP///////yH5BAEKAAEALAAAAAABAAEAAAICTAEAOw==\" style=\"width:120px;height:67px\"/></div></div></a><div><div class=\"BNeawe s3v9rd AP7Wnd\"><div><div class=\"BNeawe s3v9rd AP7Wnd\"><span class=\"r0bn4c rQMQod\">16 hours ago</span><span class=\"r0bn4c rQMQod\"> · </span>Talking about the Covid-19 cases in Delhi, Kejriwal had earlier said that the national capital has recorded less than 10000 cases in the last 24...</div></div></div></div><div class=\"rl7ilb\"></div></div></div></div><div><div class=\"ZINbbc xpd O9g5cc uUPGi\"><div class=\"kCrYT\"><a href=\"/url?q=https://www.moneycontrol.com/news/interview/interview-we-should-be-mentally-prepared-for-covid-19-pandemic-to-last-until-mid-2022-devi-shetty-6897451.html&amp;sa=U&amp;ved=2ahUKEwjjwMGtrs_wAhUrwjgGHUiRByMQxfQBMAV6BAgFEAE&amp;usg=AOvVaw1RpzWf90GjaaLOT456VlBT\"><h3 class=\"zBAuLc\"><div class=\"BNeawe vvjwJb AP7Wnd\">Interview | We should be mentally prepared for COVID-19 pandemic to last until mid-2022: Devi Shetty</div></h3><div class=\"BNeawe UPmit AP7Wnd\">Moneycontrol</div></a></div><div class=\"x54gtf\"></div><div class=\"kCrYT\"><a href=\"/url?q=https://www.moneycontrol.com/news/interview/interview-we-should-be-mentally-prepared-for-covid-19-pandemic-to-last-until-mid-2022-devi-shetty-6897451.html&amp;sa=U&amp;ved=2ahUKEwjjwMGtrs_wAhUrwjgGHUiRByMQ0Y8FMAV6BAgFEAI&amp;usg=AOvVaw2WPmWyK5vljJbF1oIPjARC\"><div class=\"lcJF1d SXn0g GXKcHe\"><div style=\"width:120px;height:83px;position:static\"><img alt=\"\" class=\"EYOsld\" data-deferred=\"1\" id=\"dimg_5\" src=\"data:image/gif;base64,R0lGODlhAQABAIAAAP///////yH5BAEKAAEALAAAAAABAAEAAAICTAEAOw==\" style=\"width:120px;height:83px\"/></div></div></a><div><div class=\"BNeawe s3v9rd AP7Wnd\"><div><div class=\"BNeawe s3v9rd AP7Wnd\"><span class=\"r0bn4c rQMQod\">1 day ago</span><span class=\"r0bn4c rQMQod\"> · </span>One of India's most respected surgeons, Dr Devi Shetty laid down a three-point plan to hasten vaccination, ramp up medical workforce and...</div></div></div></div><div class=\"rl7ilb\"></div></div></div></div><div><div class=\"ZINbbc xpd O9g5cc uUPGi\"><div class=\"kCrYT\"><a href=\"/url?q=https://www.livemint.com/news/india/delhi-lockdown-extended-by-one-more-week-announces-cm-kejriwal-11621144863256.html&amp;sa=U&amp;ved=2ahUKEwjjwMGtrs_wAhUrwjgGHUiRByMQxfQBMAZ6BAgEEAE&amp;usg=AOvVaw2yuDNRo5y7TMHEYHvo3Rvf\"><h3 class=\"zBAuLc\"><div class=\"BNeawe vvjwJb AP7Wnd\">Delhi: Covid lockdown extended by one more week, metro services to remain shut</div></h3><div class=\"BNeawe UPmit AP7Wnd\">Mint</div></a></div><div class=\"x54gtf\"></div><div class=\"kCrYT\"><a href=\"/url?q=https://www.livemint.com/news/india/delhi-lockdown-extended-by-one-more-week-announces-cm-kejriwal-11621144863256.html&amp;sa=U&amp;ved=2ahUKEwjjwMGtrs_wAhUrwjgGHUiRByMQ0Y8FMAZ6BAgEEAI&amp;usg=AOvVaw2mtl7gddPcpyL9ArttpUJC\"><div class=\"lcJF1d SXn0g GXKcHe\"><div style=\"width:120px;height:67px;position:static\"><img alt=\"\" class=\"EYOsld\" data-deferred=\"1\" id=\"dimg_3\" src=\"data:image/gif;base64,R0lGODlhAQABAIAAAP///////yH5BAEKAAEALAAAAAABAAEAAAICTAEAOw==\" style=\"width:120px;height:67px\"/></div></div></a><div><div class=\"BNeawe s3v9rd AP7Wnd\"><div><div class=\"BNeawe s3v9rd AP7Wnd\"><span class=\"r0bn4c rQMQod\">16 hours ago</span><span class=\"r0bn4c rQMQod\"> · </span>On Saturday, Delhi recorded 6430 cases with 11 per cent positivity rate.</div></div></div></div><div class=\"rl7ilb\"></div></div></div></div><div><div class=\"ZINbbc xpd O9g5cc uUPGi\"><div class=\"kCrYT\"><a href=\"/url?q=https://theprint.in/opinion/indian-americans-on-high-alert-for-news-from-families-about-covid-and-then-our-call-came/658516/&amp;sa=U&amp;ved=2ahUKEwjjwMGtrs_wAhUrwjgGHUiRByMQxfQBMAd6BAgGEAE&amp;usg=AOvVaw3zu8xtvbIyu1QGPtt7BcDl\"><h3 class=\"zBAuLc\"><div class=\"BNeawe vvjwJb AP7Wnd\">Indian Americans on high alert for news from families about Covid. And then our call came</div></h3><div class=\"BNeawe UPmit AP7Wnd\">ThePrint</div></a></div><div class=\"x54gtf\"></div><div class=\"kCrYT\"><a href=\"/url?q=https://theprint.in/opinion/indian-americans-on-high-alert-for-news-from-families-about-covid-and-then-our-call-came/658516/&amp;sa=U&amp;ved=2ahUKEwjjwMGtrs_wAhUrwjgGHUiRByMQ0Y8FMAd6BAgGEAI&amp;usg=AOvVaw1L6U8zjdryC6AsnlUD7xi9\"><div class=\"lcJF1d SXn0g GXKcHe\"><div style=\"width:120px;height:67px;position:static\"><img alt=\"\" class=\"EYOsld\" data-deferred=\"1\" id=\"dimg_13\" src=\"data:image/gif;base64,R0lGODlhAQABAIAAAP///////yH5BAEKAAEALAAAAAABAAEAAAICTAEAOw==\" style=\"width:120px;height:67px\"/></div></div></a><div><div class=\"BNeawe s3v9rd AP7Wnd\"><div><div class=\"BNeawe s3v9rd AP7Wnd\"><span class=\"r0bn4c rQMQod\">6 hours ago</span><span class=\"r0bn4c rQMQod\"> · </span>Never had we imagined moving to the US would include this experience—a desperate son watching his PPE-clad mother and sister light the...</div></div></div></div><div class=\"rl7ilb\"></div></div></div></div><div><div class=\"ZINbbc xpd O9g5cc uUPGi\"><div class=\"kCrYT\"><a href=\"/url?q=https://www.business-standard.com/article/current-affairs/mamata-banerjee-s-younger-brother-ashim-succumbs-to-coronavirus-121051500343_1.html&amp;sa=U&amp;ved=2ahUKEwjjwMGtrs_wAhUrwjgGHUiRByMQxfQBMAh6BAgBEAE&amp;usg=AOvVaw3LUjtr5E6ApnEAwYiVh9Ey\"><h3 class=\"zBAuLc\"><div class=\"BNeawe vvjwJb AP7Wnd\">Mamata Banerjees younger brother Ashim succumbs to coronavirus</div></h3><div class=\"BNeawe UPmit AP7Wnd\">Business Standard</div></a></div><div class=\"x54gtf\"></div><div class=\"kCrYT\"><a href=\"/url?q=https://www.business-standard.com/article/current-affairs/mamata-banerjee-s-younger-brother-ashim-succumbs-to-coronavirus-121051500343_1.html&amp;sa=U&amp;ved=2ahUKEwjjwMGtrs_wAhUrwjgGHUiRByMQ0Y8FMAh6BAgBEAI&amp;usg=AOvVaw2uGBod-6DujcVQe27U9L-M\"><div class=\"lcJF1d SXn0g GXKcHe\"><div style=\"width:120px;height:89px;position:static\"><img alt=\"\" class=\"EYOsld\" data-deferred=\"1\" id=\"dimg_11\" src=\"data:image/gif;base64,R0lGODlhAQABAIAAAP///////yH5BAEKAAEALAAAAAABAAEAAAICTAEAOw==\" style=\"width:120px;height:89px\"/></div></div></a><div><div class=\"BNeawe s3v9rd AP7Wnd\"><div><div class=\"BNeawe s3v9rd AP7Wnd\"><span class=\"r0bn4c rQMQod\">1 day ago</span><span class=\"r0bn4c rQMQod\"> · </span>Read more about Mamata Banerjee's younger brother Ashim succumbs to coronavirus on Business-standard. Ashim Banerjee died at a...</div></div></div></div><div class=\"rl7ilb\"></div></div></div></div><div><div class=\"ZINbbc xpd O9g5cc uUPGi\"><div class=\"kCrYT\"><a href=\"/url?q=https://www.ndtv.com/india-news/rajeev-satav-death-congress-mp-dies-after-recovering-from-coronavirus-2442626&amp;sa=U&amp;ved=2ahUKEwjjwMGtrs_wAhUrwjgGHUiRByMQxfQBMAl6BAgCEAE&amp;usg=AOvVaw2AcST0XKbLmFd5prCTHLep\"><h3 class=\"zBAuLc\"><div class=\"BNeawe vvjwJb AP7Wnd\">Congress MP, Who Had Covid, Dies; \"Leader With Much Potential,\" Says PM</div></h3><div class=\"BNeawe UPmit AP7Wnd\">NDTV.com</div></a></div><div class=\"x54gtf\"></div><div class=\"kCrYT\"><a href=\"/url?q=https://www.ndtv.com/india-news/rajeev-satav-death-congress-mp-dies-after-recovering-from-coronavirus-2442626&amp;sa=U&amp;ved=2ahUKEwjjwMGtrs_wAhUrwjgGHUiRByMQ0Y8FMAl6BAgCEAI&amp;usg=AOvVaw2fp-4n3XjQuv5AahRaEB7e\"><div class=\"lcJF1d SXn0g GXKcHe\"><div style=\"width:120px;height:73px;position:static\"><img alt=\"\" class=\"EYOsld\" data-deferred=\"1\" id=\"dimg_2\" src=\"data:image/gif;base64,R0lGODlhAQABAIAAAP///////yH5BAEKAAEALAAAAAABAAEAAAICTAEAOw==\" style=\"width:120px;height:73px\"/></div></div></a><div><div class=\"BNeawe s3v9rd AP7Wnd\"><div><div class=\"BNeawe s3v9rd AP7Wnd\"><span class=\"r0bn4c rQMQod\">19 hours ago</span><span class=\"r0bn4c rQMQod\"> · </span>Senior Congress leader and MP Rajeev Satav died at a private hospital in Pune this morning, days after recovering from coronavirus infection.</div></div></div></div><div class=\"rl7ilb\"></div></div></div></div><footer> <div> <div class=\"ZINbbc xpd O9g5cc uUPGi BmP5tf\"><div class=\"nMymef MUxGbd lyLwlc\"><a aria-label=\"Next page\" class=\"nBDE1b G5eFlf\" href=\"/search?q=coronavirus+news&amp;biw=1294&amp;bih=637&amp;ie=UTF-8&amp;tbm=nws&amp;ei=qquhYOPDNquE4-EPyKKemAI&amp;start=10&amp;sa=N\">Next &gt;</a></div></div> </div> <div id=\"EOlPnc\"><div class=\"Srfpq\"><span class=\"unknown_loc\"></span><span id=\"xxxXMc\">641006, Coimbatore, Tamil Nadu</span><span id=\"ttWoPb\"> - </span><span>From your Internet address</span><span> - </span><a href=\"/url?q=https://support.google.com/websearch%3Fp%3Dws_settings_location%26hl%3Den-IN&amp;sa=U&amp;ved=0ahUKEwjjwMGtrs_wAhUrwjgGHUiRByMQty4IUw&amp;usg=AOvVaw1gmOFi581jM16-iU_JjAFL\">Learn more</a></div><div><a href=\"/url?q=https://accounts.google.com/ServiceLogin%3Fcontinue%3Dhttps://www.google.com/search%253Fq%253Dcoronavirus%252Bnews%2526biw%253D1294%2526bih%253D637%2526tbm%253Dnws%2526sxsrf%253DALeKk01FM1nl9o2OpJL9SiYXY5cPfVUkOQ:1620948652296%2526ei%253DrLadYKfYEcKH8QPU9afgBA%2526oq%253Dcoronavirus%252Bnews%2526gs_l%253Dpsy-ab.3..0l10.9555.17479.0.17874.21.14.2.3.4.0.229.1366.0j10j1.11.0....0...1c.1.64.psy-ab..7.13.1150...0i10k1.0.4lVZQopzHFM%26hl%3Den&amp;sa=U&amp;ved=0ahUKEwjjwMGtrs_wAhUrwjgGHUiRByMQxs8CCFQ&amp;usg=AOvVaw2sep-zTGdhtiRrWy2F6ykc\">Sign in</a></div><div><a class=\"xeDNfc\" href=\"https://www.google.com/preferences?hl=en-IN&amp;fg=1&amp;sa=X&amp;ved=0ahUKEwjjwMGtrs_wAhUrwjgGHUiRByMQ5fUCCFU\">Settings</a><a class=\"xeDNfc\" href=\"https://policies.google.com/privacy?hl=en-IN&amp;fg=1\">Privacy</a><a class=\"xeDNfc\" href=\"https://policies.google.com/terms?hl=en-IN&amp;fg=1\">Terms</a></div></div> </footer><script nonce=\"SmXKL7Ut9Y/pUCmzFvgKcg==\">(function(){var hl='en-IN';(function(){\n",
       "var f=this||self,g=function(a){return a};var h,k=function(){if(void 0===h){var a=null,b=f.trustedTypes;if(b&&b.createPolicy){try{a=b.createPolicy(\"goog#html\",{createHTML:g,createScript:g,createScriptURL:g})}catch(c){f.console&&f.console.error(c.message)}h=a}else h=a}return h};var n=function(a,b){this.h=a===l&&b||\"\";this.g=m},p=function(a){return a instanceof n&&a.constructor===n&&a.g===m?a.h:\"type_error:Const\"},m={},l={};var r=function(a,b){this.g=b===q?a:\"\"};r.prototype.toString=function(){return this.g+\"\"};var t=function(a){return a instanceof r&&a.constructor===r?a.g:\"type_error:TrustedResourceUrl\"},x=function(){var a={},b=p(new n(l,\"/complete/search\"));if(!u.test(b))throw Error(\"a`\"+b);var c=b.replace(v,function(d,e){if(!Object.prototype.hasOwnProperty.call(a,e))throw Error(\"b`\"+e+\"`\"+b+\"`\"+JSON.stringify(a));d=a[e];return d instanceof n?p(d):encodeURIComponent(String(d))});return w(c)},v=/%{(\\w+)}/g,u=/^((https:)?\\/\\/[0-9a-z.:[\\]-]+\\/|\\/[^/\\\\]|[^:/\\\\%]+\\/|[^:/\\\\%]*[?#]|about:blank#)/i,y=/^([^?#]*)(\\?[^#]*)?(#[\\s\\S]*)?/,q={},w=function(a){var b=k();a=b?b.createScriptURL(a):a;return new r(a,q)},z=function(a,b,c){if(null==c)return b;if(\"string\"===typeof c)return c?a+encodeURIComponent(c):\"\";for(var d in c)if(Object.prototype.hasOwnProperty.call(c,d)){var e=c[d];e=Array.isArray(e)?e:[e];for(var C=0;C<e.length;C++){var R=e[C];null!=R&&(b||(b=a),b+=(b.length>a.length?\"&\":\"\")+encodeURIComponent(d)+\"=\"+encodeURIComponent(String(R)))}}return b};var B=function(a,b,c){this.g=c===A?a:\"\"};B.prototype.toString=function(){return this.g.toString()};var D=function(a){return a instanceof B&&a.constructor===B?a.g:\"type_error:SafeHtml\"},A={},aa=function(a){var b=k();a=b?b.createHTML(a):a;return new B(a,null,A)},ba=new B(f.trustedTypes&&f.trustedTypes.emptyHTML||\"\",0,A);var ca=function(a){var b=!1,c;return function(){b||(c=a(),b=!0);return c}}(function(){var a=document.createElement(\"div\"),b=document.createElement(\"div\");b.appendChild(document.createElement(\"div\"));a.appendChild(b);b=a.firstChild.firstChild;a.innerHTML=D(ba);return!b.parentElement}),da=function(a,b){if(ca())for(;a.lastChild;)a.removeChild(a.lastChild);a.innerHTML=D(b)},E=null,ea=/^[\\w+/_-]+[=]{0,2}$/,F=function(a){return a.querySelector?(a=a.querySelector(\"script[nonce]\"))&&(a=a.nonce||a.getAttribute(\"nonce\"))&&\n",
       "ea.test(a)?a:\"\":\"\"};var G=document.querySelector(\".l\"),H=document.querySelector(\"#sf\"),I=H.querySelector(\".sbc\"),J=H.querySelector(\"[type=text]\"),K=H.querySelector(\"[type=submit]\"),L=H.querySelector(\".sc\"),M=H.querySelector(\".x\"),N=J.value,O=[],P=-1,Q=N,S,T,U;N||(M&&(M.style.display=\"none\"),V(!1));function V(a){if(I.classList.contains(\"esbc\")){var b=I.classList.contains(\"chsbc\"),c=I.classList.contains(\"rtlsbc\");a&&(L.style.display=\"block\",b?(H.style.borderRadius=\"20px 20px 0 0\",L.style.borderBottom=\"1px solid #DFE1E5\",K.style.borderRadius=c?\"20px 0 0 0\":\"0 20px 0 0\"):I.style.borderRadius=c?\"0 8px 0 0\":\"8px 0 0 0\");a||(L.style.display=\"none\",b?(H.style.borderRadius=\"20px\",L.style.borderBottom=\"none\",K.style.borderRadius=c?\"20px 0 0 20px\":\"0 20px 20px 0\"):I.style.borderRadius=c?\"0 8px 8px 0\":\"8px 0 0 8px\")}}function W(){H.querySelector(\"[name=oq]\").value=Q;H.querySelector(\"[name=aqs]\").value=\"heirloom-srp.\"+(0<=P?P:\"\")+\".\"+(0<O.length?\"0l\"+O.length:\"\")}\n",
       "function X(){S=null;if(T){var a={client:\"heirloom-srp\",hl:hl,json:\"t\",callback:\"hS\",q:T};\"undefined\"!==typeof ds&&ds&&(a.ds=ds);var b=document;var c=\"SCRIPT\";\"application/xhtml+xml\"===b.contentType&&(c=c.toLowerCase());c=b.createElement(c);b=x();b=y.exec(t(b).toString());var d=b[3]||\"\";a=w(b[1]+z(\"?\",b[2]||\"\",a)+z(\"#\",d,void 0));c.src=t(a);(a=c.ownerDocument&&c.ownerDocument.defaultView)&&a!=f?a=F(a.document):(null===E&&(E=F(f.document)),a=E);a&&c.setAttribute(\"nonce\",a);document.body.appendChild(c);T=null;S=setTimeout(X,500)}}function Y(){for(;L.firstChild;)L.removeChild(L.firstChild);O=[];P=-1;V(!1)}function Z(){var a=L.querySelector(\".scs\");a&&(a.className=\"\");0<=P?(a=L.childNodes[P],a.className=\"scs\",N=a.textContent):N=Q;J.value=N}J.addEventListener(\"focus\",function(){G&&(G.style.display=\"none\")},!1);J.addEventListener(\"blur\",function(){Y();G&&(G.style.display=\"\")},!1);J.addEventListener(\"keyup\",function(a){N=J.value;U=!1;13==a.which?W():27==a.which?(Y(),G&&(G.style.display=\"\"),N=Q,J.value=N):40==a.which?(P++,P>=O.length&&(P=-1),Z()):38==a.which?(P--,-1>P&&(P=O.length-1),Z()):(a=N)?(M&&(M.style.display=\"\"),T=a,S||X(),Q=a):(M&&(M.style.display=\"none\"),V(!1),Y(),Q=\"\",U=!0)},!1);K.addEventListener(\"click\",W,!1);M.addEventListener(\"click\",function(){J.value=\"\";M.style.display=\"none\";V(!1)},!1);I.addEventListener(\"click\",function(){J.focus()},!1);window.hS=function(a){if(!U){Y();0==a[1].length&&V(!1);for(var b=0;b<a[1].length;b++){var c=a[1][b][0],d=document.createElement(\"div\");da(d,aa(c));d.addEventListener(\"mousedown\",function(e){e.preventDefault();return!1},!1);c=c.replace(/<\\/?b>/g,\"\");d.addEventListener(\"click\",function(e){return function(){P=e;W();Z();Y();H.submit()}}(b),!1);L.appendChild(d);V(!0);O.push(c)}}};}).call(this);})();(function(){\n",
       "function b(a){for(a=a.target||a.srcElement;a&&\"A\"!=a.nodeName;)a=a.parentElement;a&&(a.href||\"\").match(/\\/search.*[?&]tbm=isch/)&&(a.href+=\"&biw=\"+document.documentElement.clientWidth,a.href+=\"&bih=\"+document.documentElement.clientHeight)}document.addEventListener(\"click\",b,!1);document.addEventListener(\"touchStart\",b,!1);}).call(this);</script></div><!-- cctlcm 5 cctlcm --><textarea class=\"csi\" name=\"csi\" style=\"display:none\"></textarea><script nonce=\"SmXKL7Ut9Y/pUCmzFvgKcg==\">(function(){var e='qquhYOPDNquE4-EPyKKemAI';var sn='newssearch';var coh=false;var ioh=false;(function(){\n",
       "function y(a){var c=coh,b=ioh;if(!a||z(a))return 0;if(!a.getBoundingClientRect)return 1;var d=function(f){return f.getBoundingClientRect()};return!1===c||!A(a,d)||b?H(a,d):0}function A(a,c){var b;a:{for(b=a;b&&null!==b;b=b.parentElement)if(\"hidden\"===b.style.overflow)break a;b=null}if(!b)return!1;a=c(a);c=c(b);return a.bottom<c.top||a.top>=c.bottom||a.right<c.left||a.left>=c.right}\n",
       "function z(a){return\"none\"===a.style.display?!0:document.defaultView&&document.defaultView.getComputedStyle?(a=document.defaultView.getComputedStyle(a),!!a&&(\"hidden\"===a.visibility||\"0px\"===a.height&&\"0px\"===a.width)):!1}\n",
       "function H(a,c){var b=c(a);a=b.left+window.pageXOffset;c=b.top+window.pageYOffset;var d=b.width;b=b.height;var f=0;if(0>=b&&0>=d)return f;var n=window.innerHeight||document.documentElement.clientHeight;0>c+b?f=2:c>=n&&(f=4);if(0>a+d||a>=(window.innerWidth||document.documentElement.clientWidth))f|=8;f||(f=1,c+b>n&&(f|=4));return f};var I=e,J=sn,K=[];function L(a,c,b){a=\"/gen_204?atyp=csi&s=\"+(J||\"web\")+\"&t=\"+a+(\"&lite=1&ei=\"+I+\"&conn=\"+(window.navigator&&window.navigator.connection?window.navigator.connection.type:-1)+c);c=\"&rt=\";for(var d in b)a+=\"\"+c+d+\".\"+b[d],c=\",\";return a}function M(a){a={prt:a};window.wsrt&&(a.wsrt=window.wsrt);return a}function N(a){window.ping?window.ping(a):(new Image).src=a}\n",
       "(function(){for(var a=(new Date).getTime()-window.start,c=M(a),b=0,d=0,f=0,n=document.getElementsByTagName(\"img\"),p=\"&imn=\"+n.length+\"&biw=\"+window.innerWidth+\"&bih=\"+window.innerHeight,O=function(h,q){h.onload=function(){d=(new Date).getTime()-window.start;q&&++u==f&&(b=d,B());h.onload=null}},B=function(){p+=\"&ima=\"+f;c.aft=b;N(L(\"aft\",p,c))},u=0,P=0,g=void 0;g=n[P++];){var r=y(g),t=!!(r&1);t&&++f;var m=g.hasAttribute(\"data-ilite\"),v=g.hasAttribute(\"data-deferred\")||m,C=g.getAttribute(\"data-src\")||\n",
       "g.getAttribute(\"data-lzysrc\");K.push([r,v,!v&&C,google.ldi&&g.id&&google.ldi[g.id]||m&&C]);m=(r=g.complete&&(m||!v))&&Number(g.getAttribute(\"data-iml\"))||0;r&&m?(t&&++u,m&&(g=m-window.start,t&&(b=Math.max(b,g)),d=Math.max(d,g))):O(g,t)}b||(b=a);d||(d=b);u==f&&B();google.rglh&&google.rglh();window.addEventListener(\"load\",function(){window.setTimeout(function(){c.ol=(new Date).getTime()-window.start;c.iml=d;var h=window.performance&&window.performance.timing;h&&(c.rqst=h.responseEnd-h.requestStart,c.rspt=h.responseEnd-h.responseStart);for(var q=h=0,D=0,E=0,F=0,Q=0,k;k=K[Q++];){var l=k[0],w=k[1],R=k[2];k=k[3];var S=0==l,x=l&8,G=l&4;l=1==l||2==l||x&&!G;!l||x||w&&!k||++D;w&&(l&&k&&++h,G&&!k&&++q);S||x?R||++F:w||++E}p+=\"&ime=\"+D+(\"&imex=\"+E+\"&imeh=\"+F)+(\"&imea=\"+h+\"&imeb=\"+q);N(L(\"all\",p,c))},0)},!1)})();}).call(this);})();</script><script nonce=\"SmXKL7Ut9Y/pUCmzFvgKcg==\">\n",
       "function _setImagesSrc(e,d){function f(b){b.onerror=function(){b.style.display=\"none\"};b.src=d}for(var g=0,a=void 0;a=e[g++];){var c=document.getElementById(a)||document.querySelector('img[data-iid=\"'+a+'\"]');c?(a=void 0,(null==(a=google.c)?0:a.setup)&&google.c.setup(c),f(c)):(google.iir=google.iir||{},google.iir[a]=d)}}\"undefined\"==typeof window.google&&(window.google={});</script><script nonce=\"SmXKL7Ut9Y/pUCmzFvgKcg==\">(function(){var s='data:image/jpeg;base64,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';var i=['dimg_4'];_setImagesSrc(i,s);})();</script><script nonce=\"SmXKL7Ut9Y/pUCmzFvgKcg==\">(function(){var s='data:image/jpeg;base64,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\\x3d\\x3d';var i=['dimg_17'];_setImagesSrc(i,s);})();</script><script nonce=\"SmXKL7Ut9Y/pUCmzFvgKcg==\">(function(){var s='data:image/jpeg;base64,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\\x3d\\x3d';var i=['dimg_19'];_setImagesSrc(i,s);})();</script><script nonce=\"SmXKL7Ut9Y/pUCmzFvgKcg==\">(function(){var s='data:image/jpeg;base64,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';var i=['dimg_15'];_setImagesSrc(i,s);})();</script><script nonce=\"SmXKL7Ut9Y/pUCmzFvgKcg==\">(function(){var s='data:image/jpeg;base64,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\\x3d';var i=['dimg_1'];_setImagesSrc(i,s);})();</script><script nonce=\"SmXKL7Ut9Y/pUCmzFvgKcg==\">(function(){var s='data:image/jpeg;base64,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\\x3d';var i=['dimg_5'];_setImagesSrc(i,s);})();</script><script nonce=\"SmXKL7Ut9Y/pUCmzFvgKcg==\">(function(){var s='data:image/jpeg;base64,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\\x3d\\x3d';var i=['dimg_3'];_setImagesSrc(i,s);})();</script><script nonce=\"SmXKL7Ut9Y/pUCmzFvgKcg==\">(function(){var s='data:image/jpeg;base64,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';var i=['dimg_13'];_setImagesSrc(i,s);})();</script><script nonce=\"SmXKL7Ut9Y/pUCmzFvgKcg==\">(function(){var s='data:image/jpeg;base64,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';var i=['dimg_11'];_setImagesSrc(i,s);})();</script><script nonce=\"SmXKL7Ut9Y/pUCmzFvgKcg==\">(function(){var s='data:image/jpeg;base64,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\\x3d';var i=['dimg_2'];_setImagesSrc(i,s);})();</script><script nonce=\"SmXKL7Ut9Y/pUCmzFvgKcg==\">(function(){var e='qquhYOPDNquE4-EPyKKemAI';(function(){\n",
       "var a=e;2===(window.performance&&window.performance.navigation&&window.performance.navigation.type)&&window.ping(\"/gen_204?ct=backbutton&ei=\"+a);}).call(this);})();(function(){\n",
       "var b=[function(){google.tick&&google.tick(\"load\",\"dcl\")}];google.dclc=function(a){b.length?b.push(a):a()};function c(){for(var a;a=b.shift();)a()}window.addEventListener?(document.addEventListener(\"DOMContentLoaded\",c,!1),window.addEventListener(\"load\",c,!1)):window.attachEvent&&window.attachEvent(\"onload\",c);}).call(this);(function(){(function(){google.csct={};google.csct.ps='AOvVaw05ImfnpzB9sUuP0Eu_wdkp\\x26ust\\x3d1621294378926917';})();})();(function(){(function(){google.csct.rd=true;})();})();google.drty&&google.drty();</script></body></html>"
      ]
     },
     "execution_count": 14,
     "metadata": {},
     "output_type": "execute_result"
    }
   ],
   "source": [
    "rep=bs(response.content,'html.parser')\n",
    "rep"
   ]
  },
  {
   "cell_type": "code",
   "execution_count": 15,
   "metadata": {},
   "outputs": [],
   "source": [
    "import numpy as np\n",
    "news=rep.find_all('div')\n",
    "feq=[]\n",
    "for i in news:\n",
    "    x=i.find_all('div',class_=\"BNeawe vvjwJb AP7Wnd\")\n",
    "    for j in x:\n",
    "        #print(j.get_text())\n",
    "        feq.append(j.get_text())\n",
    "x=np.unique(feq)\n",
    "x=list(x[0:-2])"
   ]
  },
  {
   "cell_type": "code",
   "execution_count": 16,
   "metadata": {},
   "outputs": [],
   "source": [
    "feq1=[]\n",
    "for i in news:\n",
    "    y=i.find_all('div',class_=\"BNeawe UPmit AP7Wnd\")\n",
    "    for j in y:\n",
    "        if(j not in feq1):\n",
    "            #print(j.get_text())\n",
    "            feq1.append(j.get_text())"
   ]
  },
  {
   "cell_type": "code",
   "execution_count": 17,
   "metadata": {},
   "outputs": [],
   "source": [
    "News={}\n",
    "#print(len(x),len(feq1))\n",
    "for i in range(len(x)):\n",
    "    News[feq1[i]]=x[i]"
   ]
  },
  {
   "cell_type": "code",
   "execution_count": 18,
   "metadata": {},
   "outputs": [
    {
     "name": "stdout",
     "output_type": "stream",
     "text": [
      "Today's Headlines\n",
      "\n",
      "Times of India : Congress MP, Who Had Covid, Dies; \"Leader With Much Potential,\" Says PM\n",
      "\n",
      "NDTV.com : Coronavirus live updates: Covaxin blunts all Covid strains, BB-ICMR study says\n",
      "\n",
      "The Indian Express : Delhi Covid-19 lockdown extended till May 24; metro services to remain shut\n",
      "\n",
      "Hindustan Times : Delhi: Covid lockdown extended by one more week, metro services to remain shut\n",
      "\n",
      "Moneycontrol : Indian Americans on high alert for news from families about Covid. And then our call came\n",
      "\n",
      "Mint : Interview | We should be mentally prepared for COVID-19 pandemic to last until mid-2022: Devi Shetty\n",
      "\n",
      "ThePrint : Mamata Banerjees younger brother Ashim succumbs to coronavirus\n",
      "\n"
     ]
    }
   ],
   "source": [
    "print(\"Today's Headlines\\n\")\n",
    "for i,j in News.items():\n",
    "    print(i,\":\",j)\n",
    "    print()"
   ]
  },
  {
   "cell_type": "markdown",
   "metadata": {},
   "source": [
    "# Oxy Supply"
   ]
  },
  {
   "cell_type": "code",
   "execution_count": 103,
   "metadata": {},
   "outputs": [],
   "source": [
    "oxy_url='https://oxygenhall.in/'\n",
    "headers={\n",
    "    'User-Agent': 'Mozilla/5.0 (Windows NT 6.1; Win64; x64) AppleWebKit/537.36 (KHTML, like Gecko) Chrome/63.0.3239.132 Safari/537.36'\n",
    "}"
   ]
  },
  {
   "cell_type": "code",
   "execution_count": 104,
   "metadata": {},
   "outputs": [],
   "source": [
    "response = requests.get(oxy_url,headers=headers)"
   ]
  },
  {
   "cell_type": "code",
   "execution_count": 105,
   "metadata": {},
   "outputs": [
    {
     "name": "stdout",
     "output_type": "stream",
     "text": [
      "Response content is not valid JSON\n"
     ]
    }
   ],
   "source": [
    "try:\n",
    "    data = response.json()\n",
    "    print(data)\n",
    "except ValueError:\n",
    "    print(\"Response content is not valid JSON\")\n"
   ]
  },
  {
   "cell_type": "code",
   "execution_count": 106,
   "metadata": {},
   "outputs": [],
   "source": [
    "soup=bs(response.content,'html.parser')"
   ]
  },
  {
   "cell_type": "code",
   "execution_count": 109,
   "metadata": {},
   "outputs": [],
   "source": [
    "from selenium import webdriver\n",
    "from selenium.webdriver.common.keys import Keys"
   ]
  },
  {
   "cell_type": "code",
   "execution_count": 110,
   "metadata": {},
   "outputs": [
    {
     "ename": "WebDriverException",
     "evalue": "Message: 'chromedriver' executable needs to be in PATH. Please see https://sites.google.com/a/chromium.org/chromedriver/home\n",
     "output_type": "error",
     "traceback": [
      "\u001b[0;31m---------------------------------------------------------------------------\u001b[0m",
      "\u001b[0;31mFileNotFoundError\u001b[0m                         Traceback (most recent call last)",
      "\u001b[0;32m~/anaconda3/lib/python3.8/site-packages/selenium/webdriver/common/service.py\u001b[0m in \u001b[0;36mstart\u001b[0;34m(self)\u001b[0m\n\u001b[1;32m     71\u001b[0m             \u001b[0mcmd\u001b[0m\u001b[0;34m.\u001b[0m\u001b[0mextend\u001b[0m\u001b[0;34m(\u001b[0m\u001b[0mself\u001b[0m\u001b[0;34m.\u001b[0m\u001b[0mcommand_line_args\u001b[0m\u001b[0;34m(\u001b[0m\u001b[0;34m)\u001b[0m\u001b[0;34m)\u001b[0m\u001b[0;34m\u001b[0m\u001b[0;34m\u001b[0m\u001b[0m\n\u001b[0;32m---> 72\u001b[0;31m             self.process = subprocess.Popen(cmd, env=self.env,\n\u001b[0m\u001b[1;32m     73\u001b[0m                                             \u001b[0mclose_fds\u001b[0m\u001b[0;34m=\u001b[0m\u001b[0mplatform\u001b[0m\u001b[0;34m.\u001b[0m\u001b[0msystem\u001b[0m\u001b[0;34m(\u001b[0m\u001b[0;34m)\u001b[0m \u001b[0;34m!=\u001b[0m \u001b[0;34m'Windows'\u001b[0m\u001b[0;34m,\u001b[0m\u001b[0;34m\u001b[0m\u001b[0;34m\u001b[0m\u001b[0m\n",
      "\u001b[0;32m~/anaconda3/lib/python3.8/subprocess.py\u001b[0m in \u001b[0;36m__init__\u001b[0;34m(self, args, bufsize, executable, stdin, stdout, stderr, preexec_fn, close_fds, shell, cwd, env, universal_newlines, startupinfo, creationflags, restore_signals, start_new_session, pass_fds, encoding, errors, text)\u001b[0m\n\u001b[1;32m    853\u001b[0m \u001b[0;34m\u001b[0m\u001b[0m\n\u001b[0;32m--> 854\u001b[0;31m             self._execute_child(args, executable, preexec_fn, close_fds,\n\u001b[0m\u001b[1;32m    855\u001b[0m                                 \u001b[0mpass_fds\u001b[0m\u001b[0;34m,\u001b[0m \u001b[0mcwd\u001b[0m\u001b[0;34m,\u001b[0m \u001b[0menv\u001b[0m\u001b[0;34m,\u001b[0m\u001b[0;34m\u001b[0m\u001b[0;34m\u001b[0m\u001b[0m\n",
      "\u001b[0;32m~/anaconda3/lib/python3.8/subprocess.py\u001b[0m in \u001b[0;36m_execute_child\u001b[0;34m(self, args, executable, preexec_fn, close_fds, pass_fds, cwd, env, startupinfo, creationflags, shell, p2cread, p2cwrite, c2pread, c2pwrite, errread, errwrite, restore_signals, start_new_session)\u001b[0m\n\u001b[1;32m   1701\u001b[0m                         \u001b[0merr_msg\u001b[0m \u001b[0;34m=\u001b[0m \u001b[0mos\u001b[0m\u001b[0;34m.\u001b[0m\u001b[0mstrerror\u001b[0m\u001b[0;34m(\u001b[0m\u001b[0merrno_num\u001b[0m\u001b[0;34m)\u001b[0m\u001b[0;34m\u001b[0m\u001b[0;34m\u001b[0m\u001b[0m\n\u001b[0;32m-> 1702\u001b[0;31m                     \u001b[0;32mraise\u001b[0m \u001b[0mchild_exception_type\u001b[0m\u001b[0;34m(\u001b[0m\u001b[0merrno_num\u001b[0m\u001b[0;34m,\u001b[0m \u001b[0merr_msg\u001b[0m\u001b[0;34m,\u001b[0m \u001b[0merr_filename\u001b[0m\u001b[0;34m)\u001b[0m\u001b[0;34m\u001b[0m\u001b[0;34m\u001b[0m\u001b[0m\n\u001b[0m\u001b[1;32m   1703\u001b[0m                 \u001b[0;32mraise\u001b[0m \u001b[0mchild_exception_type\u001b[0m\u001b[0;34m(\u001b[0m\u001b[0merr_msg\u001b[0m\u001b[0;34m)\u001b[0m\u001b[0;34m\u001b[0m\u001b[0;34m\u001b[0m\u001b[0m\n",
      "\u001b[0;31mFileNotFoundError\u001b[0m: [Errno 2] No such file or directory: './chromedriver'",
      "\nDuring handling of the above exception, another exception occurred:\n",
      "\u001b[0;31mWebDriverException\u001b[0m                        Traceback (most recent call last)",
      "\u001b[0;32m<ipython-input-110-c2e9cad52997>\u001b[0m in \u001b[0;36m<module>\u001b[0;34m\u001b[0m\n\u001b[0;32m----> 1\u001b[0;31m \u001b[0mdriver\u001b[0m \u001b[0;34m=\u001b[0m \u001b[0mwebdriver\u001b[0m\u001b[0;34m.\u001b[0m\u001b[0mChrome\u001b[0m\u001b[0;34m(\u001b[0m\u001b[0;34m'./chromedriver'\u001b[0m\u001b[0;34m)\u001b[0m\u001b[0;34m\u001b[0m\u001b[0;34m\u001b[0m\u001b[0m\n\u001b[0m",
      "\u001b[0;32m~/anaconda3/lib/python3.8/site-packages/selenium/webdriver/chrome/webdriver.py\u001b[0m in \u001b[0;36m__init__\u001b[0;34m(self, executable_path, port, options, service_args, desired_capabilities, service_log_path, chrome_options, keep_alive)\u001b[0m\n\u001b[1;32m     71\u001b[0m             \u001b[0mservice_args\u001b[0m\u001b[0;34m=\u001b[0m\u001b[0mservice_args\u001b[0m\u001b[0;34m,\u001b[0m\u001b[0;34m\u001b[0m\u001b[0;34m\u001b[0m\u001b[0m\n\u001b[1;32m     72\u001b[0m             log_path=service_log_path)\n\u001b[0;32m---> 73\u001b[0;31m         \u001b[0mself\u001b[0m\u001b[0;34m.\u001b[0m\u001b[0mservice\u001b[0m\u001b[0;34m.\u001b[0m\u001b[0mstart\u001b[0m\u001b[0;34m(\u001b[0m\u001b[0;34m)\u001b[0m\u001b[0;34m\u001b[0m\u001b[0;34m\u001b[0m\u001b[0m\n\u001b[0m\u001b[1;32m     74\u001b[0m \u001b[0;34m\u001b[0m\u001b[0m\n\u001b[1;32m     75\u001b[0m         \u001b[0;32mtry\u001b[0m\u001b[0;34m:\u001b[0m\u001b[0;34m\u001b[0m\u001b[0;34m\u001b[0m\u001b[0m\n",
      "\u001b[0;32m~/anaconda3/lib/python3.8/site-packages/selenium/webdriver/common/service.py\u001b[0m in \u001b[0;36mstart\u001b[0;34m(self)\u001b[0m\n\u001b[1;32m     79\u001b[0m         \u001b[0;32mexcept\u001b[0m \u001b[0mOSError\u001b[0m \u001b[0;32mas\u001b[0m \u001b[0merr\u001b[0m\u001b[0;34m:\u001b[0m\u001b[0;34m\u001b[0m\u001b[0;34m\u001b[0m\u001b[0m\n\u001b[1;32m     80\u001b[0m             \u001b[0;32mif\u001b[0m \u001b[0merr\u001b[0m\u001b[0;34m.\u001b[0m\u001b[0merrno\u001b[0m \u001b[0;34m==\u001b[0m \u001b[0merrno\u001b[0m\u001b[0;34m.\u001b[0m\u001b[0mENOENT\u001b[0m\u001b[0;34m:\u001b[0m\u001b[0;34m\u001b[0m\u001b[0;34m\u001b[0m\u001b[0m\n\u001b[0;32m---> 81\u001b[0;31m                 raise WebDriverException(\n\u001b[0m\u001b[1;32m     82\u001b[0m                     \"'%s' executable needs to be in PATH. %s\" % (\n\u001b[1;32m     83\u001b[0m                         os.path.basename(self.path), self.start_error_message)\n",
      "\u001b[0;31mWebDriverException\u001b[0m: Message: 'chromedriver' executable needs to be in PATH. Please see https://sites.google.com/a/chromium.org/chromedriver/home\n"
     ]
    }
   ],
   "source": [
    "driver = webdriver.Chrome('./chromedriver')"
   ]
  },
  {
   "cell_type": "code",
   "execution_count": 4,
   "metadata": {},
   "outputs": [
    {
     "ename": "WebDriverException",
     "evalue": "Message: 'chromedriver_linux64' executable may have wrong permissions. Please see https://sites.google.com/a/chromium.org/chromedriver/home\n",
     "output_type": "error",
     "traceback": [
      "\u001b[0;31m---------------------------------------------------------------------------\u001b[0m",
      "\u001b[0;31mPermissionError\u001b[0m                           Traceback (most recent call last)",
      "\u001b[0;32m~/anaconda3/lib/python3.8/site-packages/selenium/webdriver/common/service.py\u001b[0m in \u001b[0;36mstart\u001b[0;34m(self)\u001b[0m\n\u001b[1;32m     71\u001b[0m             \u001b[0mcmd\u001b[0m\u001b[0;34m.\u001b[0m\u001b[0mextend\u001b[0m\u001b[0;34m(\u001b[0m\u001b[0mself\u001b[0m\u001b[0;34m.\u001b[0m\u001b[0mcommand_line_args\u001b[0m\u001b[0;34m(\u001b[0m\u001b[0;34m)\u001b[0m\u001b[0;34m)\u001b[0m\u001b[0;34m\u001b[0m\u001b[0;34m\u001b[0m\u001b[0m\n\u001b[0;32m---> 72\u001b[0;31m             self.process = subprocess.Popen(cmd, env=self.env,\n\u001b[0m\u001b[1;32m     73\u001b[0m                                             \u001b[0mclose_fds\u001b[0m\u001b[0;34m=\u001b[0m\u001b[0mplatform\u001b[0m\u001b[0;34m.\u001b[0m\u001b[0msystem\u001b[0m\u001b[0;34m(\u001b[0m\u001b[0;34m)\u001b[0m \u001b[0;34m!=\u001b[0m \u001b[0;34m'Windows'\u001b[0m\u001b[0;34m,\u001b[0m\u001b[0;34m\u001b[0m\u001b[0;34m\u001b[0m\u001b[0m\n",
      "\u001b[0;32m~/anaconda3/lib/python3.8/subprocess.py\u001b[0m in \u001b[0;36m__init__\u001b[0;34m(self, args, bufsize, executable, stdin, stdout, stderr, preexec_fn, close_fds, shell, cwd, env, universal_newlines, startupinfo, creationflags, restore_signals, start_new_session, pass_fds, encoding, errors, text)\u001b[0m\n\u001b[1;32m    853\u001b[0m \u001b[0;34m\u001b[0m\u001b[0m\n\u001b[0;32m--> 854\u001b[0;31m             self._execute_child(args, executable, preexec_fn, close_fds,\n\u001b[0m\u001b[1;32m    855\u001b[0m                                 \u001b[0mpass_fds\u001b[0m\u001b[0;34m,\u001b[0m \u001b[0mcwd\u001b[0m\u001b[0;34m,\u001b[0m \u001b[0menv\u001b[0m\u001b[0;34m,\u001b[0m\u001b[0;34m\u001b[0m\u001b[0;34m\u001b[0m\u001b[0m\n",
      "\u001b[0;32m~/anaconda3/lib/python3.8/subprocess.py\u001b[0m in \u001b[0;36m_execute_child\u001b[0;34m(self, args, executable, preexec_fn, close_fds, pass_fds, cwd, env, startupinfo, creationflags, shell, p2cread, p2cwrite, c2pread, c2pwrite, errread, errwrite, restore_signals, start_new_session)\u001b[0m\n\u001b[1;32m   1701\u001b[0m                         \u001b[0merr_msg\u001b[0m \u001b[0;34m=\u001b[0m \u001b[0mos\u001b[0m\u001b[0;34m.\u001b[0m\u001b[0mstrerror\u001b[0m\u001b[0;34m(\u001b[0m\u001b[0merrno_num\u001b[0m\u001b[0;34m)\u001b[0m\u001b[0;34m\u001b[0m\u001b[0;34m\u001b[0m\u001b[0m\n\u001b[0;32m-> 1702\u001b[0;31m                     \u001b[0;32mraise\u001b[0m \u001b[0mchild_exception_type\u001b[0m\u001b[0;34m(\u001b[0m\u001b[0merrno_num\u001b[0m\u001b[0;34m,\u001b[0m \u001b[0merr_msg\u001b[0m\u001b[0;34m,\u001b[0m \u001b[0merr_filename\u001b[0m\u001b[0;34m)\u001b[0m\u001b[0;34m\u001b[0m\u001b[0;34m\u001b[0m\u001b[0m\n\u001b[0m\u001b[1;32m   1703\u001b[0m                 \u001b[0;32mraise\u001b[0m \u001b[0mchild_exception_type\u001b[0m\u001b[0;34m(\u001b[0m\u001b[0merr_msg\u001b[0m\u001b[0;34m)\u001b[0m\u001b[0;34m\u001b[0m\u001b[0;34m\u001b[0m\u001b[0m\n",
      "\u001b[0;31mPermissionError\u001b[0m: [Errno 13] Permission denied: '/home/skk/chromedriver_linux64'",
      "\nDuring handling of the above exception, another exception occurred:\n",
      "\u001b[0;31mWebDriverException\u001b[0m                        Traceback (most recent call last)",
      "\u001b[0;32m<ipython-input-4-1545765126d2>\u001b[0m in \u001b[0;36m<module>\u001b[0;34m\u001b[0m\n\u001b[1;32m      5\u001b[0m \u001b[0;34m\u001b[0m\u001b[0m\n\u001b[1;32m      6\u001b[0m \u001b[0;34m\u001b[0m\u001b[0m\n\u001b[0;32m----> 7\u001b[0;31m \u001b[0mdriver\u001b[0m \u001b[0;34m=\u001b[0m \u001b[0mwebdriver\u001b[0m\u001b[0;34m.\u001b[0m\u001b[0mChrome\u001b[0m\u001b[0;34m(\u001b[0m\u001b[0;34m'/home/skk/chromedriver_linux64'\u001b[0m\u001b[0;34m)\u001b[0m  \u001b[0;31m# Optional argument, if not specified will search path.\u001b[0m\u001b[0;34m\u001b[0m\u001b[0;34m\u001b[0m\u001b[0m\n\u001b[0m\u001b[1;32m      8\u001b[0m \u001b[0;34m\u001b[0m\u001b[0m\n\u001b[1;32m      9\u001b[0m \u001b[0mdriver\u001b[0m\u001b[0;34m.\u001b[0m\u001b[0mget\u001b[0m\u001b[0;34m(\u001b[0m\u001b[0;34m'http://www.google.com/'\u001b[0m\u001b[0;34m)\u001b[0m\u001b[0;34m;\u001b[0m\u001b[0;34m\u001b[0m\u001b[0;34m\u001b[0m\u001b[0m\n",
      "\u001b[0;32m~/anaconda3/lib/python3.8/site-packages/selenium/webdriver/chrome/webdriver.py\u001b[0m in \u001b[0;36m__init__\u001b[0;34m(self, executable_path, port, options, service_args, desired_capabilities, service_log_path, chrome_options, keep_alive)\u001b[0m\n\u001b[1;32m     71\u001b[0m             \u001b[0mservice_args\u001b[0m\u001b[0;34m=\u001b[0m\u001b[0mservice_args\u001b[0m\u001b[0;34m,\u001b[0m\u001b[0;34m\u001b[0m\u001b[0;34m\u001b[0m\u001b[0m\n\u001b[1;32m     72\u001b[0m             log_path=service_log_path)\n\u001b[0;32m---> 73\u001b[0;31m         \u001b[0mself\u001b[0m\u001b[0;34m.\u001b[0m\u001b[0mservice\u001b[0m\u001b[0;34m.\u001b[0m\u001b[0mstart\u001b[0m\u001b[0;34m(\u001b[0m\u001b[0;34m)\u001b[0m\u001b[0;34m\u001b[0m\u001b[0;34m\u001b[0m\u001b[0m\n\u001b[0m\u001b[1;32m     74\u001b[0m \u001b[0;34m\u001b[0m\u001b[0m\n\u001b[1;32m     75\u001b[0m         \u001b[0;32mtry\u001b[0m\u001b[0;34m:\u001b[0m\u001b[0;34m\u001b[0m\u001b[0;34m\u001b[0m\u001b[0m\n",
      "\u001b[0;32m~/anaconda3/lib/python3.8/site-packages/selenium/webdriver/common/service.py\u001b[0m in \u001b[0;36mstart\u001b[0;34m(self)\u001b[0m\n\u001b[1;32m     84\u001b[0m                 )\n\u001b[1;32m     85\u001b[0m             \u001b[0;32melif\u001b[0m \u001b[0merr\u001b[0m\u001b[0;34m.\u001b[0m\u001b[0merrno\u001b[0m \u001b[0;34m==\u001b[0m \u001b[0merrno\u001b[0m\u001b[0;34m.\u001b[0m\u001b[0mEACCES\u001b[0m\u001b[0;34m:\u001b[0m\u001b[0;34m\u001b[0m\u001b[0;34m\u001b[0m\u001b[0m\n\u001b[0;32m---> 86\u001b[0;31m                 raise WebDriverException(\n\u001b[0m\u001b[1;32m     87\u001b[0m                     \"'%s' executable may have wrong permissions. %s\" % (\n\u001b[1;32m     88\u001b[0m                         os.path.basename(self.path), self.start_error_message)\n",
      "\u001b[0;31mWebDriverException\u001b[0m: Message: 'chromedriver_linux64' executable may have wrong permissions. Please see https://sites.google.com/a/chromium.org/chromedriver/home\n"
     ]
    }
   ],
   "source": [
    "import time\n",
    "\n",
    "from selenium import webdriver\n",
    "\n",
    "\n",
    "\n",
    "driver = webdriver.Chrome('/home/skk/chromedriver_linux64')  # Optional argument, if not specified will search path.\n",
    "\n",
    "driver.get('http://www.google.com/');\n",
    "\n",
    "time.sleep(5) # Let the user actually see something!\n",
    "\n",
    "search_box = driver.find_element_by_name('q')\n",
    "\n",
    "search_box.send_keys('ChromeDriver')\n",
    "\n",
    "search_box.submit()\n",
    "\n",
    "time.sleep(5) # Let the user actually see something!\n",
    "\n",
    "driver.quit()"
   ]
  },
  {
   "cell_type": "code",
   "execution_count": null,
   "metadata": {},
   "outputs": [],
   "source": []
  },
  {
   "cell_type": "code",
   "execution_count": null,
   "metadata": {},
   "outputs": [],
   "source": []
  }
 ],
 "metadata": {
  "kernelspec": {
   "display_name": "Python 3",
   "language": "python",
   "name": "python3"
  },
  "language_info": {
   "codemirror_mode": {
    "name": "ipython",
    "version": 3
   },
   "file_extension": ".py",
   "mimetype": "text/x-python",
   "name": "python",
   "nbconvert_exporter": "python",
   "pygments_lexer": "ipython3",
   "version": "3.8.5"
  }
 },
 "nbformat": 4,
 "nbformat_minor": 4
}
